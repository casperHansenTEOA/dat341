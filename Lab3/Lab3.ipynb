{
 "cells": [
  {
   "cell_type": "markdown",
   "metadata": {},
   "source": [
    "#Reflect on 3a\n",
    "It was diffcult to set sentiment in some cases because the tweets are sometimes hard to interpret especially when using dialectic words or discussion topics that we were not familliar with"
   ]
  }
 ],
 "metadata": {
  "language_info": {
   "name": "python"
  }
 },
 "nbformat": 4,
 "nbformat_minor": 5
}
