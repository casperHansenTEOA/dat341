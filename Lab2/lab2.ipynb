{
 "cells": [
  {
   "cell_type": "markdown",
   "metadata": {},
   "source": [
    "# Task1 "
   ]
  },
  {
   "cell_type": "code",
   "execution_count": 6,
   "metadata": {},
   "outputs": [],
   "source": [
    "import pandas\n",
    "# read the train and test set\n",
    "train = pandas.read_csv('adult_train.csv')\n",
    "test = pandas.read_csv('adult_test.csv')\n",
    "\n",
    "# split into x and y\n",
    "x_train = train.drop(columns=['target'])\n",
    "y_train = train['target']\n",
    "x_test = test.drop(columns=['target'])\n",
    "y_test = test['target']\n",
    "\n",
    "# number encoding (step 2)\n",
    "from sklearn.feature_extraction import DictVectorizer\n",
    "\n",
    "dictsTrain = x_train.to_dict(orient='records')\n",
    "dictsTest = x_test.to_dict(orient='records')\n",
    "\n",
    "dv = DictVectorizer(sparse=False)\n",
    "x_train_enc = dv.fit_transform(dictsTrain)\n",
    "x_test_enc = dv.transform(dictsTest)"
   ]
  },
  {
   "cell_type": "code",
   "execution_count": 13,
   "metadata": {},
   "outputs": [
    {
     "name": "stdout",
     "output_type": "stream",
     "text": [
      "accuracy: 0.8554757078803513\n"
     ]
    }
   ],
   "source": [
    "# step 3 use a pipeline instead of manually encoding the data\n",
    "from sklearn.pipeline import make_pipeline\n",
    "from sklearn.tree import DecisionTreeClassifier\n",
    "from sklearn.ensemble import RandomForestClassifier\n",
    "from sklearn.feature_extraction import DictVectorizer\n",
    "\n",
    "pipeline = make_pipeline(\n",
    "    DictVectorizer(sparse=False),\n",
    "    RandomForestClassifier(n_estimators=90, max_depth=9, random_state=69)\n",
    ")\n",
    "# make sure the pipeline is working\n",
    "pipeline.fit(x_train.to_dict(orient='records'), y_train)\n",
    "y_pred = pipeline.predict(x_test.to_dict(orient='records'))\n",
    "from sklearn.metrics import accuracy_score\n",
    "print('accuracy:', accuracy_score(y_test, y_pred))"
   ]
  },
  {
   "cell_type": "markdown",
   "metadata": {},
   "source": [
    "# Task 2"
   ]
  }
 ],
 "metadata": {
  "kernelspec": {
   "display_name": "Python 3",
   "language": "python",
   "name": "python3"
  },
  "language_info": {
   "codemirror_mode": {
    "name": "ipython",
    "version": 3
   },
   "file_extension": ".py",
   "mimetype": "text/x-python",
   "name": "python",
   "nbconvert_exporter": "python",
   "pygments_lexer": "ipython3",
   "version": "3.11.9"
  }
 },
 "nbformat": 4,
 "nbformat_minor": 2
}
